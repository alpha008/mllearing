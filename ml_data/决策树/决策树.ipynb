{
 "cells": [
  {
   "cell_type": "markdown",
   "metadata": {},
   "source": [
    "## 基于决策树算法的葡萄酒品质预测"
   ]
  },
  {
   "cell_type": "markdown",
   "metadata": {},
   "source": [
    "## 一、实验简介"
   ]
  },
  {
   "cell_type": "markdown",
   "metadata": {},
   "source": [
    "### （一）问题描述\n",
    "随着经济的发展与生活质量的提高，葡萄酒越来越受到大家的欢迎。葡萄酒品质评价大多采用人工感官主观测评的方法。感官评测的影响因素多、主观性比较强，没有统一的参考标准，其重复性差是一个很严重的问题。此外，由于葡萄酒所需的化学成分十分的复杂与多样，比如：非挥发性酸度、残糖、氯化物等，所以对葡萄酒的客观品质划分比较困难。\n",
    "\n",
    "为了尝试解决这些问题，本实验基于葡萄酒的酸度、氯化物等化学特性，利用Sklearn机器学习库中的决策树对葡萄酒的品质进行预测，并对预测的准确率进行计算。"
   ]
  },
  {
   "cell_type": "markdown",
   "metadata": {},
   "source": [
    "### （二）问题需求\n",
    "\n",
    "此实验中的数据集来自UCI上面的公开数据集，数据集包括红酒的品质数据集和白酒的品质数据集，其中红酒数据集共有1599个样本数据，白酒数据集共有4898个样本数据，每个样本都包含相同的12个属性。其中，quality代表葡萄酒质量（评分由低到高，值为0-10的整数），实验中用于决策树模型的标签。数据集中其它字段的意义如下：\n",
    "\n",
    "|特征名|特征含义|\n",
    "|---|---|\n",
    "|fixed acidity|非挥发性酸度|\n",
    "|volatile acidity|挥发性酸度 （太高的酸度会导致红酒味道变差）|\n",
    "|citric acid|柠檬酸 （少量的柠檬酸能增加红酒的鲜度）|\n",
    "|residual sugar|残糖 （酒精发酵后未被发酵而残余的糖分）|\n",
    "|chlorides|氯化物 （普通酒中的盐分）|\n",
    "|free sulfur dioxide|游离二氧化硫 （能防止微生物和被氧化）|\n",
    "|total sulfur dioxide|总二氧化硫量， 包含游离二氧化硫和结合二氧化硫（如果游离二氧化硫浓度超过50 ppm的话，就能从红酒中感受到二氧化硫的味道）|\n",
    "|density|密度（水的密度，即水减去酒精和糖的容量后计算得到）|\n",
    "|pH|酸碱度（0 (very acidic酸) to 14 (very basic碱); 大部分集中在3-4的ph值之间）|\n",
    "|sulphates|硫酸盐（一种会产生二氧化硫添加剂，有抗菌剂和抗氧化剂的作用）|\n",
    "|alcohol|酒精度|\n",
    "\n",
    "数据文件所在的位置“决策树\\data\\winequality-red.csv”，“决策树\\data\\winequality-white.csv”。\n",
    "\n",
    "实验中将整个数据集以8:2的比例拆分为训练集与测试集。\n",
    "\n",
    "本实验将使用葡萄酒品质数据训练集来训练决策树模型，并使用测试集在训练得到的模型上进行验证，最终得到模型的准确率。"
   ]
  },
  {
   "cell_type": "markdown",
   "metadata": {},
   "source": [
    "## 二、 实验任务与要求\n",
    "本实验主要任务是应用Sklearn机器学习库中的决策树模块，通过合并红酒和白酒两个数据集，在数据处理后抽取80%的样本作为训练集对决策树模型进行训练，最终使用训练后的模型对其余20%的样本进行分类预测。具体的实验任务如下：\n",
    "\n",
    "1.数据集的观察：加载数据集，观察数据集的整体情况，大致了解本实验的数据集。\n",
    "\n",
    "2.合并数据集：将两个数据集进行合并。\n",
    "\n",
    "3.数据可视化：以直方图的形式分析residual_sugar、pH、alcohol这三个特征对葡萄酒品质的影响。\n",
    "\n",
    "4.数据集的划分：实验中需要将数据集按8:2的比例划分成训练集和测试集。\n",
    "\n",
    "5.模型的训练：实现决策树模型，在使用训练集对模型进行训练。\n",
    "\n",
    "6.模型的评估：利用测试集评估模型分类结果的准确率。"
   ]
  },
  {
   "cell_type": "markdown",
   "metadata": {},
   "source": [
    "## 三、实验步骤"
   ]
  },
  {
   "cell_type": "markdown",
   "metadata": {},
   "source": [
    "### （一）加载相关的包\n",
    "\n",
    "1.加载Numpy、Pandas等包做数据处理。\n",
    "\n",
    "2.加载Matplotlib包做数据可视化。\n",
    "\n",
    "3.从sklearn.tree加载DecisionTreeClassifier算法函数\n",
    "\n",
    "4.从Sklearn.model_selection中加载train_test_split训练集-测试集划分的函数\n",
    "\n",
    "5.从Sklearn.metrics中加载accuracy_score模块来评估模型"
   ]
  },
  {
   "cell_type": "code",
   "execution_count": 1,
   "metadata": {
    "ExecuteTime": {
     "end_time": "2019-12-18T03:38:42.600792Z",
     "start_time": "2019-12-18T03:38:41.018021Z"
    }
   },
   "outputs": [],
   "source": [
    "import numpy as np  # 数据处理包\n",
    "import pandas as pd  # 文件读取包\n",
    "import matplotlib.pyplot as plt  # 数据可视化包\n",
    "from sklearn.tree import DecisionTreeClassifier  # 决策树分类模型\n",
    "from sklearn.model_selection import train_test_split  # 数据划分函数\n",
    "from sklearn.metrics import accuracy_score  # 精确度，模型评分机制"
   ]
  },
  {
   "cell_type": "markdown",
   "metadata": {},
   "source": [
    "### （二）数据集的观察"
   ]
  },
  {
   "cell_type": "markdown",
   "metadata": {},
   "source": [
    "（1）加载数据集。利用pandas中的read_csv()方法来读取csv文件。由于本实验数据集以分号作为分隔符，参数sep里的默认值逗号，需要此参数改为分号。"
   ]
  },
  {
   "cell_type": "code",
   "execution_count": 2,
   "metadata": {
    "ExecuteTime": {
     "end_time": "2019-12-18T03:38:42.632704Z",
     "start_time": "2019-12-18T03:38:42.602784Z"
    }
   },
   "outputs": [],
   "source": [
    "# 加载数据文件,注意加载数据文件的方式,需要以分号作为分隔符进行分割。\n",
    "df_redwine = pd.read_csv('data/winequality-red.csv', sep=';')\n",
    "df_whitewine = pd.read_csv('data/winequality-white.csv', sep=';')"
   ]
  },
  {
   "cell_type": "markdown",
   "metadata": {
    "ExecuteTime": {
     "end_time": "2019-12-16T01:26:01.004143Z",
     "start_time": "2019-12-16T01:26:00.999156Z"
    }
   },
   "source": [
    "（2）利用pandas中的head()函数分别查看两个dataframe中的前五行数据，直观的了解本实验数据集。"
   ]
  },
  {
   "cell_type": "code",
   "execution_count": 3,
   "metadata": {
    "ExecuteTime": {
     "end_time": "2019-12-18T03:38:42.658635Z",
     "start_time": "2019-12-18T03:38:42.634700Z"
    }
   },
   "outputs": [
    {
     "data": {
      "text/html": [
       "<div>\n",
       "<style scoped>\n",
       "    .dataframe tbody tr th:only-of-type {\n",
       "        vertical-align: middle;\n",
       "    }\n",
       "\n",
       "    .dataframe tbody tr th {\n",
       "        vertical-align: top;\n",
       "    }\n",
       "\n",
       "    .dataframe thead th {\n",
       "        text-align: right;\n",
       "    }\n",
       "</style>\n",
       "<table border=\"1\" class=\"dataframe\">\n",
       "  <thead>\n",
       "    <tr style=\"text-align: right;\">\n",
       "      <th></th>\n",
       "      <th>fixed acidity</th>\n",
       "      <th>volatile acidity</th>\n",
       "      <th>citric acid</th>\n",
       "      <th>residual sugar</th>\n",
       "      <th>chlorides</th>\n",
       "      <th>free sulfur dioxide</th>\n",
       "      <th>total sulfur dioxide</th>\n",
       "      <th>density</th>\n",
       "      <th>pH</th>\n",
       "      <th>sulphates</th>\n",
       "      <th>alcohol</th>\n",
       "      <th>quality</th>\n",
       "    </tr>\n",
       "  </thead>\n",
       "  <tbody>\n",
       "    <tr>\n",
       "      <th>0</th>\n",
       "      <td>7.4</td>\n",
       "      <td>0.70</td>\n",
       "      <td>0.00</td>\n",
       "      <td>1.9</td>\n",
       "      <td>0.076</td>\n",
       "      <td>11.0</td>\n",
       "      <td>34.0</td>\n",
       "      <td>0.9978</td>\n",
       "      <td>3.51</td>\n",
       "      <td>0.56</td>\n",
       "      <td>9.4</td>\n",
       "      <td>5</td>\n",
       "    </tr>\n",
       "    <tr>\n",
       "      <th>1</th>\n",
       "      <td>7.8</td>\n",
       "      <td>0.88</td>\n",
       "      <td>0.00</td>\n",
       "      <td>2.6</td>\n",
       "      <td>0.098</td>\n",
       "      <td>25.0</td>\n",
       "      <td>67.0</td>\n",
       "      <td>0.9968</td>\n",
       "      <td>3.20</td>\n",
       "      <td>0.68</td>\n",
       "      <td>9.8</td>\n",
       "      <td>5</td>\n",
       "    </tr>\n",
       "    <tr>\n",
       "      <th>2</th>\n",
       "      <td>7.8</td>\n",
       "      <td>0.76</td>\n",
       "      <td>0.04</td>\n",
       "      <td>2.3</td>\n",
       "      <td>0.092</td>\n",
       "      <td>15.0</td>\n",
       "      <td>54.0</td>\n",
       "      <td>0.9970</td>\n",
       "      <td>3.26</td>\n",
       "      <td>0.65</td>\n",
       "      <td>9.8</td>\n",
       "      <td>5</td>\n",
       "    </tr>\n",
       "    <tr>\n",
       "      <th>3</th>\n",
       "      <td>11.2</td>\n",
       "      <td>0.28</td>\n",
       "      <td>0.56</td>\n",
       "      <td>1.9</td>\n",
       "      <td>0.075</td>\n",
       "      <td>17.0</td>\n",
       "      <td>60.0</td>\n",
       "      <td>0.9980</td>\n",
       "      <td>3.16</td>\n",
       "      <td>0.58</td>\n",
       "      <td>9.8</td>\n",
       "      <td>6</td>\n",
       "    </tr>\n",
       "    <tr>\n",
       "      <th>4</th>\n",
       "      <td>7.4</td>\n",
       "      <td>0.70</td>\n",
       "      <td>0.00</td>\n",
       "      <td>1.9</td>\n",
       "      <td>0.076</td>\n",
       "      <td>11.0</td>\n",
       "      <td>34.0</td>\n",
       "      <td>0.9978</td>\n",
       "      <td>3.51</td>\n",
       "      <td>0.56</td>\n",
       "      <td>9.4</td>\n",
       "      <td>5</td>\n",
       "    </tr>\n",
       "  </tbody>\n",
       "</table>\n",
       "</div>"
      ],
      "text/plain": [
       "   fixed acidity  volatile acidity  citric acid  residual sugar  chlorides  \\\n",
       "0            7.4              0.70         0.00             1.9      0.076   \n",
       "1            7.8              0.88         0.00             2.6      0.098   \n",
       "2            7.8              0.76         0.04             2.3      0.092   \n",
       "3           11.2              0.28         0.56             1.9      0.075   \n",
       "4            7.4              0.70         0.00             1.9      0.076   \n",
       "\n",
       "   free sulfur dioxide  total sulfur dioxide  density    pH  sulphates  \\\n",
       "0                 11.0                  34.0   0.9978  3.51       0.56   \n",
       "1                 25.0                  67.0   0.9968  3.20       0.68   \n",
       "2                 15.0                  54.0   0.9970  3.26       0.65   \n",
       "3                 17.0                  60.0   0.9980  3.16       0.58   \n",
       "4                 11.0                  34.0   0.9978  3.51       0.56   \n",
       "\n",
       "   alcohol  quality  \n",
       "0      9.4        5  \n",
       "1      9.8        5  \n",
       "2      9.8        5  \n",
       "3      9.8        6  \n",
       "4      9.4        5  "
      ]
     },
     "execution_count": 3,
     "metadata": {},
     "output_type": "execute_result"
    }
   ],
   "source": [
    "#观察红酒数据样本\n",
    "df_redwine.head()"
   ]
  },
  {
   "cell_type": "code",
   "execution_count": 4,
   "metadata": {
    "ExecuteTime": {
     "end_time": "2019-12-18T03:38:42.683569Z",
     "start_time": "2019-12-18T03:38:42.661628Z"
    }
   },
   "outputs": [
    {
     "data": {
      "text/html": [
       "<div>\n",
       "<style scoped>\n",
       "    .dataframe tbody tr th:only-of-type {\n",
       "        vertical-align: middle;\n",
       "    }\n",
       "\n",
       "    .dataframe tbody tr th {\n",
       "        vertical-align: top;\n",
       "    }\n",
       "\n",
       "    .dataframe thead th {\n",
       "        text-align: right;\n",
       "    }\n",
       "</style>\n",
       "<table border=\"1\" class=\"dataframe\">\n",
       "  <thead>\n",
       "    <tr style=\"text-align: right;\">\n",
       "      <th></th>\n",
       "      <th>fixed acidity</th>\n",
       "      <th>volatile acidity</th>\n",
       "      <th>citric acid</th>\n",
       "      <th>residual sugar</th>\n",
       "      <th>chlorides</th>\n",
       "      <th>free sulfur dioxide</th>\n",
       "      <th>total sulfur dioxide</th>\n",
       "      <th>density</th>\n",
       "      <th>pH</th>\n",
       "      <th>sulphates</th>\n",
       "      <th>alcohol</th>\n",
       "      <th>quality</th>\n",
       "    </tr>\n",
       "  </thead>\n",
       "  <tbody>\n",
       "    <tr>\n",
       "      <th>0</th>\n",
       "      <td>7.0</td>\n",
       "      <td>0.27</td>\n",
       "      <td>0.36</td>\n",
       "      <td>20.7</td>\n",
       "      <td>0.045</td>\n",
       "      <td>45.0</td>\n",
       "      <td>170.0</td>\n",
       "      <td>1.0010</td>\n",
       "      <td>3.00</td>\n",
       "      <td>0.45</td>\n",
       "      <td>8.8</td>\n",
       "      <td>6</td>\n",
       "    </tr>\n",
       "    <tr>\n",
       "      <th>1</th>\n",
       "      <td>6.3</td>\n",
       "      <td>0.30</td>\n",
       "      <td>0.34</td>\n",
       "      <td>1.6</td>\n",
       "      <td>0.049</td>\n",
       "      <td>14.0</td>\n",
       "      <td>132.0</td>\n",
       "      <td>0.9940</td>\n",
       "      <td>3.30</td>\n",
       "      <td>0.49</td>\n",
       "      <td>9.5</td>\n",
       "      <td>6</td>\n",
       "    </tr>\n",
       "    <tr>\n",
       "      <th>2</th>\n",
       "      <td>8.1</td>\n",
       "      <td>0.28</td>\n",
       "      <td>0.40</td>\n",
       "      <td>6.9</td>\n",
       "      <td>0.050</td>\n",
       "      <td>30.0</td>\n",
       "      <td>97.0</td>\n",
       "      <td>0.9951</td>\n",
       "      <td>3.26</td>\n",
       "      <td>0.44</td>\n",
       "      <td>10.1</td>\n",
       "      <td>6</td>\n",
       "    </tr>\n",
       "    <tr>\n",
       "      <th>3</th>\n",
       "      <td>7.2</td>\n",
       "      <td>0.23</td>\n",
       "      <td>0.32</td>\n",
       "      <td>8.5</td>\n",
       "      <td>0.058</td>\n",
       "      <td>47.0</td>\n",
       "      <td>186.0</td>\n",
       "      <td>0.9956</td>\n",
       "      <td>3.19</td>\n",
       "      <td>0.40</td>\n",
       "      <td>9.9</td>\n",
       "      <td>6</td>\n",
       "    </tr>\n",
       "    <tr>\n",
       "      <th>4</th>\n",
       "      <td>7.2</td>\n",
       "      <td>0.23</td>\n",
       "      <td>0.32</td>\n",
       "      <td>8.5</td>\n",
       "      <td>0.058</td>\n",
       "      <td>47.0</td>\n",
       "      <td>186.0</td>\n",
       "      <td>0.9956</td>\n",
       "      <td>3.19</td>\n",
       "      <td>0.40</td>\n",
       "      <td>9.9</td>\n",
       "      <td>6</td>\n",
       "    </tr>\n",
       "  </tbody>\n",
       "</table>\n",
       "</div>"
      ],
      "text/plain": [
       "   fixed acidity  volatile acidity  citric acid  residual sugar  chlorides  \\\n",
       "0            7.0              0.27         0.36            20.7      0.045   \n",
       "1            6.3              0.30         0.34             1.6      0.049   \n",
       "2            8.1              0.28         0.40             6.9      0.050   \n",
       "3            7.2              0.23         0.32             8.5      0.058   \n",
       "4            7.2              0.23         0.32             8.5      0.058   \n",
       "\n",
       "   free sulfur dioxide  total sulfur dioxide  density    pH  sulphates  \\\n",
       "0                 45.0                 170.0   1.0010  3.00       0.45   \n",
       "1                 14.0                 132.0   0.9940  3.30       0.49   \n",
       "2                 30.0                  97.0   0.9951  3.26       0.44   \n",
       "3                 47.0                 186.0   0.9956  3.19       0.40   \n",
       "4                 47.0                 186.0   0.9956  3.19       0.40   \n",
       "\n",
       "   alcohol  quality  \n",
       "0      8.8        6  \n",
       "1      9.5        6  \n",
       "2     10.1        6  \n",
       "3      9.9        6  \n",
       "4      9.9        6  "
      ]
     },
     "execution_count": 4,
     "metadata": {},
     "output_type": "execute_result"
    }
   ],
   "source": [
    "#观察白酒数据样本\n",
    "df_whitewine.head()"
   ]
  },
  {
   "cell_type": "markdown",
   "metadata": {},
   "source": [
    "（3）从上面表格可以观察到，有些特征的命名不规范，为防止后序的使用出现错误，需要利用Pandas下的rename()函数把它重命名。  \n",
    "命名不规范的特征名有：‘fixed acidity’、‘volatile acidity’、‘citric acid’、‘residual sugar’、‘total sulfur dioxide’、‘free sulfur dioxide’。"
   ]
  },
  {
   "cell_type": "code",
   "execution_count": 5,
   "metadata": {
    "ExecuteTime": {
     "end_time": "2019-12-18T03:38:42.705510Z",
     "start_time": "2019-12-18T03:38:42.685563Z"
    }
   },
   "outputs": [],
   "source": [
    "#将两个数据集中不规范的命名进行修改\n",
    "df_redwine.rename(columns={'fixed acidity': 'fixed_acidity'}, inplace=True)\n",
    "df_redwine.rename(columns={'volatile acidity': 'volatile_acidity'}, inplace=True)\n",
    "df_redwine.rename(columns={'citric acid': 'citric_acid'}, inplace=True)\n",
    "df_redwine.rename(columns={'residual sugar': 'residual_sugar'}, inplace=True)\n",
    "df_redwine.rename(columns={'total sulfur dioxide': 'total_sulfur_dioxide'}, inplace=True)\n",
    "df_redwine.rename(columns={'free sulfur dioxide': 'free_sulfur_dioxide'}, inplace=True)\n",
    "\n",
    "df_whitewine.rename(columns={'fixed acidity': 'fixed_acidity'}, inplace=True)\n",
    "df_whitewine.rename(columns={'volatile acidity': 'volatile_acidity'}, inplace=True)\n",
    "df_whitewine.rename(columns={'citric acid': 'citric_acid'}, inplace=True)\n",
    "df_whitewine.rename(columns={'residual sugar': 'residual_sugar'}, inplace=True)\n",
    "df_whitewine.rename(columns={'total sulfur dioxide': 'total_sulfur_dioxide'}, inplace=True)\n",
    "df_whitewine.rename(columns={'free sulfur dioxide': 'free_sulfur_dioxide'}, inplace=True)"
   ]
  },
  {
   "cell_type": "markdown",
   "metadata": {},
   "source": [
    "（4）利用pandas中的info()函数查看数据集的大小、行列规模和数据类型等，了解数据的整体信息，以便于后续数据处理。"
   ]
  },
  {
   "cell_type": "code",
   "execution_count": 6,
   "metadata": {
    "ExecuteTime": {
     "end_time": "2019-12-18T03:38:42.718476Z",
     "start_time": "2019-12-18T03:38:42.707504Z"
    }
   },
   "outputs": [
    {
     "name": "stdout",
     "output_type": "stream",
     "text": [
      "<class 'pandas.core.frame.DataFrame'>\n",
      "RangeIndex: 1599 entries, 0 to 1598\n",
      "Data columns (total 12 columns):\n",
      " #   Column                Non-Null Count  Dtype  \n",
      "---  ------                --------------  -----  \n",
      " 0   fixed_acidity         1599 non-null   float64\n",
      " 1   volatile_acidity      1599 non-null   float64\n",
      " 2   citric_acid           1599 non-null   float64\n",
      " 3   residual_sugar        1599 non-null   float64\n",
      " 4   chlorides             1599 non-null   float64\n",
      " 5   free_sulfur_dioxide   1599 non-null   float64\n",
      " 6   total_sulfur_dioxide  1599 non-null   float64\n",
      " 7   density               1599 non-null   float64\n",
      " 8   pH                    1599 non-null   float64\n",
      " 9   sulphates             1599 non-null   float64\n",
      " 10  alcohol               1599 non-null   float64\n",
      " 11  quality               1599 non-null   int64  \n",
      "dtypes: float64(11), int64(1)\n",
      "memory usage: 150.0 KB\n"
     ]
    }
   ],
   "source": [
    " # 观察红酒数据样本的整体信息\n",
    "df_redwine.info()"
   ]
  },
  {
   "cell_type": "code",
   "execution_count": 7,
   "metadata": {
    "ExecuteTime": {
     "end_time": "2019-12-18T03:38:42.730611Z",
     "start_time": "2019-12-18T03:38:42.720470Z"
    }
   },
   "outputs": [
    {
     "name": "stdout",
     "output_type": "stream",
     "text": [
      "<class 'pandas.core.frame.DataFrame'>\n",
      "RangeIndex: 4898 entries, 0 to 4897\n",
      "Data columns (total 12 columns):\n",
      " #   Column                Non-Null Count  Dtype  \n",
      "---  ------                --------------  -----  \n",
      " 0   fixed_acidity         4898 non-null   float64\n",
      " 1   volatile_acidity      4898 non-null   float64\n",
      " 2   citric_acid           4898 non-null   float64\n",
      " 3   residual_sugar        4898 non-null   float64\n",
      " 4   chlorides             4898 non-null   float64\n",
      " 5   free_sulfur_dioxide   4898 non-null   float64\n",
      " 6   total_sulfur_dioxide  4898 non-null   float64\n",
      " 7   density               4898 non-null   float64\n",
      " 8   pH                    4898 non-null   float64\n",
      " 9   sulphates             4898 non-null   float64\n",
      " 10  alcohol               4898 non-null   float64\n",
      " 11  quality               4898 non-null   int64  \n",
      "dtypes: float64(11), int64(1)\n",
      "memory usage: 459.3 KB\n"
     ]
    }
   ],
   "source": [
    "# 观察白酒数据样本的整体信息\n",
    "df_whitewine.info()"
   ]
  },
  {
   "cell_type": "markdown",
   "metadata": {
    "ExecuteTime": {
     "end_time": "2019-10-25T06:17:12.191249Z",
     "start_time": "2019-10-25T06:17:12.168337Z"
    }
   },
   "source": [
    "可以观察到红葡萄酒的样本共有1599个，白葡萄酒的样本共有4898个，样本数据的数据类型全是数值型，数据集中没有缺失值。"
   ]
  },
  {
   "cell_type": "markdown",
   "metadata": {},
   "source": [
    "### （三）合并数据集\n",
    "\n",
    "由于本实验中有两种不同葡萄酒的数据集，同时这两个数据集的特征属性一样，可以创建颜色列将数据集区分，再将两个数据集进行合并，最后利用模型同时对两种葡萄酒数据进行学习。"
   ]
  },
  {
   "cell_type": "markdown",
   "metadata": {},
   "source": [
    "首先利用Numpy里的重复功能np.repeat(a, repeats, axis=None)创建两个数组，数组长度需要与红白葡萄酒数据集的行数相同。\n",
    "\n",
    "repeat()函数解释如下：\n",
    "\n",
    "    功能：可以对数组中的元素进行连续复制。\n",
    "    \n",
    "    参数：\n",
    "        a：数组。\n",
    "        repeats：表示重复的次数。\n",
    "        axis：表示数组的维度。"
   ]
  },
  {
   "cell_type": "code",
   "execution_count": 8,
   "metadata": {
    "ExecuteTime": {
     "end_time": "2019-12-18T03:38:42.739419Z",
     "start_time": "2019-12-18T03:38:42.735430Z"
    }
   },
   "outputs": [],
   "source": [
    "#创建重复值的数组\n",
    "color_red = np.repeat('red', df_redwine.shape[0])\n",
    "color_white = np.repeat('white', df_whitewine.shape[0])"
   ]
  },
  {
   "cell_type": "markdown",
   "metadata": {
    "ExecuteTime": {
     "end_time": "2019-12-16T01:57:45.651053Z",
     "start_time": "2019-12-16T01:57:45.646067Z"
    }
   },
   "source": [
    "再创建新的列名同时将数组添加到红葡萄酒和白葡萄酒数据集中。"
   ]
  },
  {
   "cell_type": "code",
   "execution_count": 9,
   "metadata": {
    "ExecuteTime": {
     "end_time": "2019-12-18T03:38:42.763355Z",
     "start_time": "2019-12-18T03:38:42.745413Z"
    }
   },
   "outputs": [
    {
     "data": {
      "text/html": [
       "<div>\n",
       "<style scoped>\n",
       "    .dataframe tbody tr th:only-of-type {\n",
       "        vertical-align: middle;\n",
       "    }\n",
       "\n",
       "    .dataframe tbody tr th {\n",
       "        vertical-align: top;\n",
       "    }\n",
       "\n",
       "    .dataframe thead th {\n",
       "        text-align: right;\n",
       "    }\n",
       "</style>\n",
       "<table border=\"1\" class=\"dataframe\">\n",
       "  <thead>\n",
       "    <tr style=\"text-align: right;\">\n",
       "      <th></th>\n",
       "      <th>fixed_acidity</th>\n",
       "      <th>volatile_acidity</th>\n",
       "      <th>citric_acid</th>\n",
       "      <th>residual_sugar</th>\n",
       "      <th>chlorides</th>\n",
       "      <th>free_sulfur_dioxide</th>\n",
       "      <th>total_sulfur_dioxide</th>\n",
       "      <th>density</th>\n",
       "      <th>pH</th>\n",
       "      <th>sulphates</th>\n",
       "      <th>alcohol</th>\n",
       "      <th>quality</th>\n",
       "      <th>color</th>\n",
       "    </tr>\n",
       "  </thead>\n",
       "  <tbody>\n",
       "    <tr>\n",
       "      <th>0</th>\n",
       "      <td>7.4</td>\n",
       "      <td>0.70</td>\n",
       "      <td>0.0</td>\n",
       "      <td>1.9</td>\n",
       "      <td>0.076</td>\n",
       "      <td>11.0</td>\n",
       "      <td>34.0</td>\n",
       "      <td>0.9978</td>\n",
       "      <td>3.51</td>\n",
       "      <td>0.56</td>\n",
       "      <td>9.4</td>\n",
       "      <td>5</td>\n",
       "      <td>red</td>\n",
       "    </tr>\n",
       "    <tr>\n",
       "      <th>1</th>\n",
       "      <td>7.8</td>\n",
       "      <td>0.88</td>\n",
       "      <td>0.0</td>\n",
       "      <td>2.6</td>\n",
       "      <td>0.098</td>\n",
       "      <td>25.0</td>\n",
       "      <td>67.0</td>\n",
       "      <td>0.9968</td>\n",
       "      <td>3.20</td>\n",
       "      <td>0.68</td>\n",
       "      <td>9.8</td>\n",
       "      <td>5</td>\n",
       "      <td>red</td>\n",
       "    </tr>\n",
       "  </tbody>\n",
       "</table>\n",
       "</div>"
      ],
      "text/plain": [
       "   fixed_acidity  volatile_acidity  citric_acid  residual_sugar  chlorides  \\\n",
       "0            7.4              0.70          0.0             1.9      0.076   \n",
       "1            7.8              0.88          0.0             2.6      0.098   \n",
       "\n",
       "   free_sulfur_dioxide  total_sulfur_dioxide  density    pH  sulphates  \\\n",
       "0                 11.0                  34.0   0.9978  3.51       0.56   \n",
       "1                 25.0                  67.0   0.9968  3.20       0.68   \n",
       "\n",
       "   alcohol  quality color  \n",
       "0      9.4        5   red  \n",
       "1      9.8        5   red  "
      ]
     },
     "execution_count": 9,
     "metadata": {},
     "output_type": "execute_result"
    }
   ],
   "source": [
    "#将数组添加到红葡萄酒数据集中\n",
    "df_redwine['color'] = color_red\n",
    "df_redwine.head(2)"
   ]
  },
  {
   "cell_type": "code",
   "execution_count": 10,
   "metadata": {
    "ExecuteTime": {
     "end_time": "2019-12-18T03:38:42.785297Z",
     "start_time": "2019-12-18T03:38:42.766348Z"
    }
   },
   "outputs": [
    {
     "data": {
      "text/html": [
       "<div>\n",
       "<style scoped>\n",
       "    .dataframe tbody tr th:only-of-type {\n",
       "        vertical-align: middle;\n",
       "    }\n",
       "\n",
       "    .dataframe tbody tr th {\n",
       "        vertical-align: top;\n",
       "    }\n",
       "\n",
       "    .dataframe thead th {\n",
       "        text-align: right;\n",
       "    }\n",
       "</style>\n",
       "<table border=\"1\" class=\"dataframe\">\n",
       "  <thead>\n",
       "    <tr style=\"text-align: right;\">\n",
       "      <th></th>\n",
       "      <th>fixed_acidity</th>\n",
       "      <th>volatile_acidity</th>\n",
       "      <th>citric_acid</th>\n",
       "      <th>residual_sugar</th>\n",
       "      <th>chlorides</th>\n",
       "      <th>free_sulfur_dioxide</th>\n",
       "      <th>total_sulfur_dioxide</th>\n",
       "      <th>density</th>\n",
       "      <th>pH</th>\n",
       "      <th>sulphates</th>\n",
       "      <th>alcohol</th>\n",
       "      <th>quality</th>\n",
       "      <th>color</th>\n",
       "    </tr>\n",
       "  </thead>\n",
       "  <tbody>\n",
       "    <tr>\n",
       "      <th>0</th>\n",
       "      <td>7.0</td>\n",
       "      <td>0.27</td>\n",
       "      <td>0.36</td>\n",
       "      <td>20.7</td>\n",
       "      <td>0.045</td>\n",
       "      <td>45.0</td>\n",
       "      <td>170.0</td>\n",
       "      <td>1.001</td>\n",
       "      <td>3.0</td>\n",
       "      <td>0.45</td>\n",
       "      <td>8.8</td>\n",
       "      <td>6</td>\n",
       "      <td>white</td>\n",
       "    </tr>\n",
       "    <tr>\n",
       "      <th>1</th>\n",
       "      <td>6.3</td>\n",
       "      <td>0.30</td>\n",
       "      <td>0.34</td>\n",
       "      <td>1.6</td>\n",
       "      <td>0.049</td>\n",
       "      <td>14.0</td>\n",
       "      <td>132.0</td>\n",
       "      <td>0.994</td>\n",
       "      <td>3.3</td>\n",
       "      <td>0.49</td>\n",
       "      <td>9.5</td>\n",
       "      <td>6</td>\n",
       "      <td>white</td>\n",
       "    </tr>\n",
       "  </tbody>\n",
       "</table>\n",
       "</div>"
      ],
      "text/plain": [
       "   fixed_acidity  volatile_acidity  citric_acid  residual_sugar  chlorides  \\\n",
       "0            7.0              0.27         0.36            20.7      0.045   \n",
       "1            6.3              0.30         0.34             1.6      0.049   \n",
       "\n",
       "   free_sulfur_dioxide  total_sulfur_dioxide  density   pH  sulphates  \\\n",
       "0                 45.0                 170.0    1.001  3.0       0.45   \n",
       "1                 14.0                 132.0    0.994  3.3       0.49   \n",
       "\n",
       "   alcohol  quality  color  \n",
       "0      8.8        6  white  \n",
       "1      9.5        6  white  "
      ]
     },
     "execution_count": 10,
     "metadata": {},
     "output_type": "execute_result"
    }
   ],
   "source": [
    "#将数组添加到白葡萄酒数据集中\n",
    "df_whitewine['color'] = color_white\n",
    "df_whitewine.head(2)"
   ]
  },
  {
   "cell_type": "markdown",
   "metadata": {},
   "source": [
    "最后利用append()函数组合红白葡萄酒数据集。"
   ]
  },
  {
   "cell_type": "code",
   "execution_count": 11,
   "metadata": {
    "ExecuteTime": {
     "end_time": "2019-12-18T03:38:42.796267Z",
     "start_time": "2019-12-18T03:38:42.788293Z"
    }
   },
   "outputs": [
    {
     "name": "stderr",
     "output_type": "stream",
     "text": [
      "/var/folders/3w/772jr2311zsbz371z3v36rdw0000gn/T/ipykernel_68760/1440112917.py:2: FutureWarning: The frame.append method is deprecated and will be removed from pandas in a future version. Use pandas.concat instead.\n",
      "  df_wine = df_redwine.append(df_whitewine)\n"
     ]
    }
   ],
   "source": [
    "#合并数据集\n",
    "df_wine = df_redwine.append(df_whitewine)"
   ]
  },
  {
   "cell_type": "markdown",
   "metadata": {},
   "source": [
    "### （四）数据可视化"
   ]
  },
  {
   "cell_type": "markdown",
   "metadata": {
    "ExecuteTime": {
     "end_time": "2019-12-16T08:24:34.168579Z",
     "start_time": "2019-12-16T08:24:34.162595Z"
    }
   },
   "source": [
    "在生活当中，对葡萄酒的平衡起着关键性影响的元素包括：甜度、酸度、果味、酒精以及单宁。这些影响元素在数据集中呈现为：\n",
    " \n",
    "    a. residual_sugar：残留糖分较高的葡萄酒，甜度就高，尝起来会有甜腻的口感，但是如果糖分不足会使得葡萄酒变得尖酸干涩难以下咽。  \n",
    "    b. pH：葡萄酒的pH值，反映的是葡萄酒的酸的强度。pH值越低，酸度越强，呈现出来的口感则越清脆鲜活。  \n",
    "    c. alcohol：过高的酒精度会给喉咙带来烧灼感。 \n",
    "\n",
    "本实验将以直方图的形式分析上述元素对葡萄酒品质的影响，具体需要分析以下问题：\n",
    "    \n",
    "    a.口感较甜（残糖多）的葡萄酒是否评分更高？\n",
    "    b.什么水平的酸度（pH 值）代表的葡萄酒品质更好？\n",
    "    c.酒精含量高的葡萄酒是否品质更好？\n",
    "    \n",
    "本节所使用的一些函数的解释如下：   \n",
    "    \n",
    "query(expr, inplace=False, **kwargs)函数解释：\n",
    "    \n",
    "    使用布尔表达式查询帧的列。\n",
    "    \n",
    "    参数：\n",
    "        \n",
    "        expr：要评估的表达式字符串。可以在环境中引用局部变量，在它们前面添加一个'@'字符 ，比如@A。\n",
    "        inplace=False：是否修改数据或返回副本。\n",
    "        kwargs：dict关键字参数。\n",
    "        \n",
    "    返回值：标量或pandas对象，评估结果。\n",
    "\n",
    "plt.bar(x,height,tick_label)函数所使用的参数解释：\n",
    "\n",
    "    x：标量序列，表示直方图x坐标位置。\n",
    "    height：标量或者标量序列，表示直方图的高度。\n",
    "    tick_label：字符串或者数组，可选参数，表示直方图的tick标记，默认为None。\n",
    "    \n",
    "\n",
    "pd.cut(x,bins,labels=None)函数所使用的参数解释：\n",
    "\n",
    "    x：进行划分的一维数组。\n",
    "    bins：整数---将x划分为多少个等间距的区间。\n",
    "        序列---将x划分为多个半开半闭区间，若不在区间中，则是NaN。\n",
    "    labels : 用标记来代替返回的bins。\n",
    " \n",
    "groupby(by=None)函数所使用的参数解释：\n",
    "\n",
    "    by：用于确定分组的依据。如果传递了一个dict或Series,则将使用Series或dict的values来确定组；如果传递了一个str或者一个strs列表，可以通过本身的列名进行分组。"
   ]
  },
  {
   "cell_type": "markdown",
   "metadata": {},
   "source": [
    "口感较甜的葡萄酒是否评分更高？"
   ]
  },
  {
   "cell_type": "code",
   "execution_count": 12,
   "metadata": {
    "ExecuteTime": {
     "end_time": "2019-12-18T03:38:42.823208Z",
     "start_time": "2019-12-18T03:38:42.798263Z"
    }
   },
   "outputs": [
    {
     "name": "stdout",
     "output_type": "stream",
     "text": [
      "低糖分的平均质量： 5.808800743724822\n",
      "高糖分的平均质量： 5.82782874617737\n"
     ]
    }
   ],
   "source": [
    "# 获取残留糖分的中位数\n",
    "sugar_median = df_wine.residual_sugar.median()\n",
    "\n",
    "\n",
    "# 选择残留糖分小于中位数的样本\n",
    "sugar_low = df_wine.query('residual_sugar < @sugar_median')\n",
    "\n",
    "# 选择残留糖分大于等于中位数的样本\n",
    "sugar_high = df_wine.query('residual_sugar >= @sugar_median')\n",
    "\n",
    "# 获取低糖分组和高糖分组的平均质量评分\n",
    "mean_sugar_low = sugar_low.quality.mean()\n",
    "mean_sugar_high = sugar_high.quality.mean()\n",
    "\n",
    "print(\"低糖分的平均质量：\", mean_sugar_low)\n",
    "print(\"高糖分的平均质量：\", mean_sugar_high)"
   ]
  },
  {
   "cell_type": "markdown",
   "metadata": {},
   "source": [
    "创建残余糖与质量之间的直方图，用一个条柱表示残留糖少的样本的平均质量，另一个条柱表示残留糖多的样本的平均质量。"
   ]
  },
  {
   "cell_type": "code",
   "execution_count": 13,
   "metadata": {
    "ExecuteTime": {
     "end_time": "2019-12-18T03:38:43.001719Z",
     "start_time": "2019-12-18T03:38:42.825190Z"
    }
   },
   "outputs": [
    {
     "data": {
      "text/plain": [
       "Text(0, 0.5, '平均质量')"
      ]
     },
     "execution_count": 13,
     "metadata": {},
     "output_type": "execute_result"
    },
    {
     "name": "stderr",
     "output_type": "stream",
     "text": [
      "findfont: Font family ['SimHei'] not found. Falling back to DejaVu Sans.\n",
      "/Users/joker/opt/anaconda3/lib/python3.9/site-packages/IPython/core/pylabtools.py:151: UserWarning: Glyph 19981 (\\N{CJK UNIFIED IDEOGRAPH-4E0D}) missing from current font.\n",
      "  fig.canvas.print_figure(bytes_io, **kw)\n",
      "/Users/joker/opt/anaconda3/lib/python3.9/site-packages/IPython/core/pylabtools.py:151: UserWarning: Glyph 21516 (\\N{CJK UNIFIED IDEOGRAPH-540C}) missing from current font.\n",
      "  fig.canvas.print_figure(bytes_io, **kw)\n",
      "/Users/joker/opt/anaconda3/lib/python3.9/site-packages/IPython/core/pylabtools.py:151: UserWarning: Glyph 27531 (\\N{CJK UNIFIED IDEOGRAPH-6B8B}) missing from current font.\n",
      "  fig.canvas.print_figure(bytes_io, **kw)\n",
      "/Users/joker/opt/anaconda3/lib/python3.9/site-packages/IPython/core/pylabtools.py:151: UserWarning: Glyph 20313 (\\N{CJK UNIFIED IDEOGRAPH-4F59}) missing from current font.\n",
      "  fig.canvas.print_figure(bytes_io, **kw)\n",
      "/Users/joker/opt/anaconda3/lib/python3.9/site-packages/IPython/core/pylabtools.py:151: UserWarning: Glyph 31958 (\\N{CJK UNIFIED IDEOGRAPH-7CD6}) missing from current font.\n",
      "  fig.canvas.print_figure(bytes_io, **kw)\n",
      "/Users/joker/opt/anaconda3/lib/python3.9/site-packages/IPython/core/pylabtools.py:151: UserWarning: Glyph 21547 (\\N{CJK UNIFIED IDEOGRAPH-542B}) missing from current font.\n",
      "  fig.canvas.print_figure(bytes_io, **kw)\n",
      "/Users/joker/opt/anaconda3/lib/python3.9/site-packages/IPython/core/pylabtools.py:151: UserWarning: Glyph 37327 (\\N{CJK UNIFIED IDEOGRAPH-91CF}) missing from current font.\n",
      "  fig.canvas.print_figure(bytes_io, **kw)\n",
      "/Users/joker/opt/anaconda3/lib/python3.9/site-packages/IPython/core/pylabtools.py:151: UserWarning: Glyph 31561 (\\N{CJK UNIFIED IDEOGRAPH-7B49}) missing from current font.\n",
      "  fig.canvas.print_figure(bytes_io, **kw)\n",
      "/Users/joker/opt/anaconda3/lib/python3.9/site-packages/IPython/core/pylabtools.py:151: UserWarning: Glyph 32423 (\\N{CJK UNIFIED IDEOGRAPH-7EA7}) missing from current font.\n",
      "  fig.canvas.print_figure(bytes_io, **kw)\n",
      "/Users/joker/opt/anaconda3/lib/python3.9/site-packages/IPython/core/pylabtools.py:151: UserWarning: Glyph 30340 (\\N{CJK UNIFIED IDEOGRAPH-7684}) missing from current font.\n",
      "  fig.canvas.print_figure(bytes_io, **kw)\n",
      "/Users/joker/opt/anaconda3/lib/python3.9/site-packages/IPython/core/pylabtools.py:151: UserWarning: Glyph 24179 (\\N{CJK UNIFIED IDEOGRAPH-5E73}) missing from current font.\n",
      "  fig.canvas.print_figure(bytes_io, **kw)\n",
      "/Users/joker/opt/anaconda3/lib/python3.9/site-packages/IPython/core/pylabtools.py:151: UserWarning: Glyph 22343 (\\N{CJK UNIFIED IDEOGRAPH-5747}) missing from current font.\n",
      "  fig.canvas.print_figure(bytes_io, **kw)\n",
      "/Users/joker/opt/anaconda3/lib/python3.9/site-packages/IPython/core/pylabtools.py:151: UserWarning: Glyph 36136 (\\N{CJK UNIFIED IDEOGRAPH-8D28}) missing from current font.\n",
      "  fig.canvas.print_figure(bytes_io, **kw)\n",
      "findfont: Font family ['SimHei'] not found. Falling back to DejaVu Sans.\n",
      "/Users/joker/opt/anaconda3/lib/python3.9/site-packages/IPython/core/pylabtools.py:151: UserWarning: Glyph 20302 (\\N{CJK UNIFIED IDEOGRAPH-4F4E}) missing from current font.\n",
      "  fig.canvas.print_figure(bytes_io, **kw)\n",
      "/Users/joker/opt/anaconda3/lib/python3.9/site-packages/IPython/core/pylabtools.py:151: UserWarning: Glyph 20998 (\\N{CJK UNIFIED IDEOGRAPH-5206}) missing from current font.\n",
      "  fig.canvas.print_figure(bytes_io, **kw)\n",
      "/Users/joker/opt/anaconda3/lib/python3.9/site-packages/IPython/core/pylabtools.py:151: UserWarning: Glyph 39640 (\\N{CJK UNIFIED IDEOGRAPH-9AD8}) missing from current font.\n",
      "  fig.canvas.print_figure(bytes_io, **kw)\n"
     ]
    },
    {
     "data": {
      "image/png": "[encoded data removed]",
      "text/plain": [
       "<Figure size 432x288 with 1 Axes>"
      ]
     },
     "metadata": {
      "needs_background": "light"
     },
     "output_type": "display_data"
    }
   ],
   "source": [
    "plt.rcParams['font.family'] = 'SimHei'  # 设置字体序列为简黑，解决plt中中文显示问题。\n",
    "\n",
    "locations = [1, 2]  # 定义条柱的 x 坐标位置\n",
    "sugar_heights = [mean_sugar_low, mean_sugar_high]  # 定义条柱的高度\n",
    "sugar_labels = ['低糖分', '高糖分']\n",
    "plt.bar(locations, sugar_heights, tick_label=sugar_labels)  # 绘画直方图\n",
    "plt.title('不同残余糖含量等级的平均质量')  # 设置标题\n",
    "plt.xlabel('残余糖含量')  # 设置x轴名称\n",
    "plt.ylabel('平均质量')  # 设置y轴名称"
   ]
  },
  {
   "cell_type": "markdown",
   "metadata": {},
   "source": [
    "什么水平的酸度代表的葡萄酒品质更好？"
   ]
  },
  {
   "cell_type": "code",
   "execution_count": 14,
   "metadata": {
    "ExecuteTime": {
     "end_time": "2019-12-18T03:38:43.015681Z",
     "start_time": "2019-12-18T03:38:43.003712Z"
    }
   },
   "outputs": [
    {
     "data": {
      "text/plain": [
       "count    6497.000000\n",
       "mean        3.218501\n",
       "std         0.160787\n",
       "min         2.720000\n",
       "25%         3.110000\n",
       "50%         3.210000\n",
       "75%         3.320000\n",
       "max         4.010000\n",
       "Name: pH, dtype: float64"
      ]
     },
     "execution_count": 14,
     "metadata": {},
     "output_type": "execute_result"
    }
   ],
   "source": [
    "# 用 Pandas 描述功能查看最小、25%、50%、75% 和 最大 pH 值\n",
    "df_wine.pH.describe()"
   ]
  },
  {
   "cell_type": "code",
   "execution_count": 15,
   "metadata": {
    "ExecuteTime": {
     "end_time": "2019-12-18T03:38:43.022662Z",
     "start_time": "2019-12-18T03:38:43.017676Z"
    }
   },
   "outputs": [],
   "source": [
    "'''设置置酸度的水平，用刚才计算的五个值填充这个列表，由于划分的是半开半闭区间，\n",
    "为了防止最小值为None，需要将最小值减去0.1'''\n",
    "bin_edges = [2.72-0.1, 3.11, 3.21, 3.32, 4.01]"
   ]
  },
  {
   "cell_type": "code",
   "execution_count": 16,
   "metadata": {
    "ExecuteTime": {
     "end_time": "2019-12-18T03:38:43.029648Z",
     "start_time": "2019-12-18T03:38:43.026652Z"
    }
   },
   "outputs": [],
   "source": [
    "# 四个酸度水平组的标签\n",
    "bin_names = [ \"high\", \"median_high\", \"mediam\", \"low\"] # 对每个酸度水平类别进行命名"
   ]
  },
  {
   "cell_type": "code",
   "execution_count": 17,
   "metadata": {
    "ExecuteTime": {
     "end_time": "2019-12-18T03:38:43.055574Z",
     "start_time": "2019-12-18T03:38:43.031639Z"
    }
   },
   "outputs": [
    {
     "data": {
      "text/html": [
       "<div>\n",
       "<style scoped>\n",
       "    .dataframe tbody tr th:only-of-type {\n",
       "        vertical-align: middle;\n",
       "    }\n",
       "\n",
       "    .dataframe tbody tr th {\n",
       "        vertical-align: top;\n",
       "    }\n",
       "\n",
       "    .dataframe thead th {\n",
       "        text-align: right;\n",
       "    }\n",
       "</style>\n",
       "<table border=\"1\" class=\"dataframe\">\n",
       "  <thead>\n",
       "    <tr style=\"text-align: right;\">\n",
       "      <th></th>\n",
       "      <th>fixed_acidity</th>\n",
       "      <th>volatile_acidity</th>\n",
       "      <th>citric_acid</th>\n",
       "      <th>residual_sugar</th>\n",
       "      <th>chlorides</th>\n",
       "      <th>free_sulfur_dioxide</th>\n",
       "      <th>total_sulfur_dioxide</th>\n",
       "      <th>density</th>\n",
       "      <th>pH</th>\n",
       "      <th>sulphates</th>\n",
       "      <th>alcohol</th>\n",
       "      <th>quality</th>\n",
       "      <th>color</th>\n",
       "      <th>acidity_levels</th>\n",
       "    </tr>\n",
       "  </thead>\n",
       "  <tbody>\n",
       "    <tr>\n",
       "      <th>0</th>\n",
       "      <td>7.4</td>\n",
       "      <td>0.70</td>\n",
       "      <td>0.00</td>\n",
       "      <td>1.9</td>\n",
       "      <td>0.076</td>\n",
       "      <td>11.0</td>\n",
       "      <td>34.0</td>\n",
       "      <td>0.9978</td>\n",
       "      <td>3.51</td>\n",
       "      <td>0.56</td>\n",
       "      <td>9.4</td>\n",
       "      <td>5</td>\n",
       "      <td>red</td>\n",
       "      <td>low</td>\n",
       "    </tr>\n",
       "    <tr>\n",
       "      <th>1</th>\n",
       "      <td>7.8</td>\n",
       "      <td>0.88</td>\n",
       "      <td>0.00</td>\n",
       "      <td>2.6</td>\n",
       "      <td>0.098</td>\n",
       "      <td>25.0</td>\n",
       "      <td>67.0</td>\n",
       "      <td>0.9968</td>\n",
       "      <td>3.20</td>\n",
       "      <td>0.68</td>\n",
       "      <td>9.8</td>\n",
       "      <td>5</td>\n",
       "      <td>red</td>\n",
       "      <td>median_high</td>\n",
       "    </tr>\n",
       "    <tr>\n",
       "      <th>2</th>\n",
       "      <td>7.8</td>\n",
       "      <td>0.76</td>\n",
       "      <td>0.04</td>\n",
       "      <td>2.3</td>\n",
       "      <td>0.092</td>\n",
       "      <td>15.0</td>\n",
       "      <td>54.0</td>\n",
       "      <td>0.9970</td>\n",
       "      <td>3.26</td>\n",
       "      <td>0.65</td>\n",
       "      <td>9.8</td>\n",
       "      <td>5</td>\n",
       "      <td>red</td>\n",
       "      <td>mediam</td>\n",
       "    </tr>\n",
       "    <tr>\n",
       "      <th>3</th>\n",
       "      <td>11.2</td>\n",
       "      <td>0.28</td>\n",
       "      <td>0.56</td>\n",
       "      <td>1.9</td>\n",
       "      <td>0.075</td>\n",
       "      <td>17.0</td>\n",
       "      <td>60.0</td>\n",
       "      <td>0.9980</td>\n",
       "      <td>3.16</td>\n",
       "      <td>0.58</td>\n",
       "      <td>9.8</td>\n",
       "      <td>6</td>\n",
       "      <td>red</td>\n",
       "      <td>median_high</td>\n",
       "    </tr>\n",
       "    <tr>\n",
       "      <th>4</th>\n",
       "      <td>7.4</td>\n",
       "      <td>0.70</td>\n",
       "      <td>0.00</td>\n",
       "      <td>1.9</td>\n",
       "      <td>0.076</td>\n",
       "      <td>11.0</td>\n",
       "      <td>34.0</td>\n",
       "      <td>0.9978</td>\n",
       "      <td>3.51</td>\n",
       "      <td>0.56</td>\n",
       "      <td>9.4</td>\n",
       "      <td>5</td>\n",
       "      <td>red</td>\n",
       "      <td>low</td>\n",
       "    </tr>\n",
       "  </tbody>\n",
       "</table>\n",
       "</div>"
      ],
      "text/plain": [
       "   fixed_acidity  volatile_acidity  citric_acid  residual_sugar  chlorides  \\\n",
       "0            7.4              0.70         0.00             1.9      0.076   \n",
       "1            7.8              0.88         0.00             2.6      0.098   \n",
       "2            7.8              0.76         0.04             2.3      0.092   \n",
       "3           11.2              0.28         0.56             1.9      0.075   \n",
       "4            7.4              0.70         0.00             1.9      0.076   \n",
       "\n",
       "   free_sulfur_dioxide  total_sulfur_dioxide  density    pH  sulphates  \\\n",
       "0                 11.0                  34.0   0.9978  3.51       0.56   \n",
       "1                 25.0                  67.0   0.9968  3.20       0.68   \n",
       "2                 15.0                  54.0   0.9970  3.26       0.65   \n",
       "3                 17.0                  60.0   0.9980  3.16       0.58   \n",
       "4                 11.0                  34.0   0.9978  3.51       0.56   \n",
       "\n",
       "   alcohol  quality color acidity_levels  \n",
       "0      9.4        5   red            low  \n",
       "1      9.8        5   red    median_high  \n",
       "2      9.8        5   red         mediam  \n",
       "3      9.8        6   red    median_high  \n",
       "4      9.4        5   red            low  "
      ]
     },
     "execution_count": 17,
     "metadata": {},
     "output_type": "execute_result"
    }
   ],
   "source": [
    "# 创建 acidity_levels 列\n",
    "df_wine['acidity_levels'] = pd.cut(df_wine['pH'], bin_edges, labels=bin_names)\n",
    "\n",
    "# 检查该列是否成功创建\n",
    "df_wine.head()"
   ]
  },
  {
   "cell_type": "code",
   "execution_count": 18,
   "metadata": {
    "ExecuteTime": {
     "end_time": "2019-12-18T03:38:43.067542Z",
     "start_time": "2019-12-18T03:38:43.057583Z"
    }
   },
   "outputs": [
    {
     "data": {
      "text/plain": [
       "acidity_levels\n",
       "high           5.783469\n",
       "median_high    5.784540\n",
       "mediam         5.850832\n",
       "low            5.859593\n",
       "Name: quality, dtype: float64"
      ]
     },
     "execution_count": 18,
     "metadata": {},
     "output_type": "execute_result"
    }
   ],
   "source": [
    "# 用 groupby 计算每个酸度水平的平均质量\n",
    "df_groups = df_wine.groupby(\"acidity_levels\")['quality'].mean()\n",
    "df_groups"
   ]
  },
  {
   "cell_type": "markdown",
   "metadata": {},
   "source": [
    "创建pH值与质量之间的直方图，四个酸度水平分别用一个条柱表示。"
   ]
  },
  {
   "cell_type": "code",
   "execution_count": 19,
   "metadata": {
    "ExecuteTime": {
     "end_time": "2019-12-18T03:38:43.218140Z",
     "start_time": "2019-12-18T03:38:43.069537Z"
    }
   },
   "outputs": [
    {
     "data": {
      "text/plain": [
       "Text(0.5, 1.0, '不同酸度等级的平均质量')"
      ]
     },
     "execution_count": 19,
     "metadata": {},
     "output_type": "execute_result"
    },
    {
     "name": "stderr",
     "output_type": "stream",
     "text": [
      "/Users/joker/opt/anaconda3/lib/python3.9/site-packages/IPython/core/pylabtools.py:151: UserWarning: Glyph 19981 (\\N{CJK UNIFIED IDEOGRAPH-4E0D}) missing from current font.\n",
      "  fig.canvas.print_figure(bytes_io, **kw)\n",
      "/Users/joker/opt/anaconda3/lib/python3.9/site-packages/IPython/core/pylabtools.py:151: UserWarning: Glyph 21516 (\\N{CJK UNIFIED IDEOGRAPH-540C}) missing from current font.\n",
      "  fig.canvas.print_figure(bytes_io, **kw)\n",
      "/Users/joker/opt/anaconda3/lib/python3.9/site-packages/IPython/core/pylabtools.py:151: UserWarning: Glyph 37240 (\\N{CJK UNIFIED IDEOGRAPH-9178}) missing from current font.\n",
      "  fig.canvas.print_figure(bytes_io, **kw)\n",
      "/Users/joker/opt/anaconda3/lib/python3.9/site-packages/IPython/core/pylabtools.py:151: UserWarning: Glyph 24230 (\\N{CJK UNIFIED IDEOGRAPH-5EA6}) missing from current font.\n",
      "  fig.canvas.print_figure(bytes_io, **kw)\n",
      "/Users/joker/opt/anaconda3/lib/python3.9/site-packages/IPython/core/pylabtools.py:151: UserWarning: Glyph 31561 (\\N{CJK UNIFIED IDEOGRAPH-7B49}) missing from current font.\n",
      "  fig.canvas.print_figure(bytes_io, **kw)\n",
      "/Users/joker/opt/anaconda3/lib/python3.9/site-packages/IPython/core/pylabtools.py:151: UserWarning: Glyph 32423 (\\N{CJK UNIFIED IDEOGRAPH-7EA7}) missing from current font.\n",
      "  fig.canvas.print_figure(bytes_io, **kw)\n",
      "/Users/joker/opt/anaconda3/lib/python3.9/site-packages/IPython/core/pylabtools.py:151: UserWarning: Glyph 30340 (\\N{CJK UNIFIED IDEOGRAPH-7684}) missing from current font.\n",
      "  fig.canvas.print_figure(bytes_io, **kw)\n",
      "/Users/joker/opt/anaconda3/lib/python3.9/site-packages/IPython/core/pylabtools.py:151: UserWarning: Glyph 24179 (\\N{CJK UNIFIED IDEOGRAPH-5E73}) missing from current font.\n",
      "  fig.canvas.print_figure(bytes_io, **kw)\n",
      "/Users/joker/opt/anaconda3/lib/python3.9/site-packages/IPython/core/pylabtools.py:151: UserWarning: Glyph 22343 (\\N{CJK UNIFIED IDEOGRAPH-5747}) missing from current font.\n",
      "  fig.canvas.print_figure(bytes_io, **kw)\n",
      "/Users/joker/opt/anaconda3/lib/python3.9/site-packages/IPython/core/pylabtools.py:151: UserWarning: Glyph 36136 (\\N{CJK UNIFIED IDEOGRAPH-8D28}) missing from current font.\n",
      "  fig.canvas.print_figure(bytes_io, **kw)\n",
      "/Users/joker/opt/anaconda3/lib/python3.9/site-packages/IPython/core/pylabtools.py:151: UserWarning: Glyph 37327 (\\N{CJK UNIFIED IDEOGRAPH-91CF}) missing from current font.\n",
      "  fig.canvas.print_figure(bytes_io, **kw)\n"
     ]
    },
    {
     "data": {
      "image/png": "[encoded data removed]",
      "text/plain": [
       "<Figure size 432x288 with 1 Axes>"
      ]
     },
     "metadata": {
      "needs_background": "light"
     },
     "output_type": "display_data"
    }
   ],
   "source": [
    "#创建一个不同酸度水平的平均质量列表，用于设置条柱的高度\n",
    "df_groups = [df_groups['high'], df_groups['median_high'],\n",
    "             df_groups['mediam'], df_groups['low']]\n",
    "\n",
    "locs = [1, 2, 3, 4]\n",
    "levels = ['high', 'median_high', 'mediam', 'low']\n",
    "plt.bar(locs, df_groups, tick_label=levels)# 绘制直方图\n",
    "plt.title('不同酸度等级的平均质量')"
   ]
  },
  {
   "cell_type": "markdown",
   "metadata": {},
   "source": [
    "酒精含量高的葡萄酒是否品质更好？"
   ]
  },
  {
   "cell_type": "code",
   "execution_count": 20,
   "metadata": {
    "ExecuteTime": {
     "end_time": "2019-12-18T03:38:43.240081Z",
     "start_time": "2019-12-18T03:38:43.221133Z"
    }
   },
   "outputs": [
    {
     "name": "stdout",
     "output_type": "stream",
     "text": [
      "酒精含量低的质量： 5.475920679886686\n",
      "酒精含量高的质量： 6.146084337349397\n"
     ]
    }
   ],
   "source": [
    "# 用查询功能选择每个组，并获取其平均质量\n",
    "\n",
    "# 获取酒精含量的中位数\n",
    "alcohol_median = df_wine['alcohol'].median()\n",
    "\n",
    "# 通过中位数将葡萄酒样本分为酒精含量低和酒精含量高的样本\n",
    "low = df_wine.query('alcohol<{}'.format(alcohol_median))\n",
    "high = df_wine.query('alcohol>={}'.format(alcohol_median))\n",
    "\n",
    "#获取低酒精度分组和高酒精度分组的平均质量评分\n",
    "mean_quality_low = low['quality'].mean()\n",
    "mean_quality_high = high['quality'].mean()\n",
    "\n",
    "print(\"酒精含量低的质量：\", mean_quality_low)\n",
    "print(\"酒精含量高的质量：\", mean_quality_high)"
   ]
  },
  {
   "cell_type": "markdown",
   "metadata": {
    "ExecuteTime": {
     "end_time": "2019-12-18T06:04:59.947032Z",
     "start_time": "2019-12-18T06:04:59.941048Z"
    }
   },
   "source": [
    "创建酒精含量与质量之间的直方图，用一个条柱表示酒精含量低的酒样本，另一个条柱表示酒精含量高的酒样本。"
   ]
  },
  {
   "cell_type": "code",
   "execution_count": 21,
   "metadata": {
    "ExecuteTime": {
     "end_time": "2019-12-18T03:38:43.395665Z",
     "start_time": "2019-12-18T03:38:43.242077Z"
    }
   },
   "outputs": [
    {
     "data": {
      "text/plain": [
       "Text(0, 0.5, '平均质量')"
      ]
     },
     "execution_count": 21,
     "metadata": {},
     "output_type": "execute_result"
    },
    {
     "name": "stderr",
     "output_type": "stream",
     "text": [
      "/Users/joker/opt/anaconda3/lib/python3.9/site-packages/IPython/core/pylabtools.py:151: UserWarning: Glyph 19981 (\\N{CJK UNIFIED IDEOGRAPH-4E0D}) missing from current font.\n",
      "  fig.canvas.print_figure(bytes_io, **kw)\n",
      "/Users/joker/opt/anaconda3/lib/python3.9/site-packages/IPython/core/pylabtools.py:151: UserWarning: Glyph 21516 (\\N{CJK UNIFIED IDEOGRAPH-540C}) missing from current font.\n",
      "  fig.canvas.print_figure(bytes_io, **kw)\n",
      "/Users/joker/opt/anaconda3/lib/python3.9/site-packages/IPython/core/pylabtools.py:151: UserWarning: Glyph 37202 (\\N{CJK UNIFIED IDEOGRAPH-9152}) missing from current font.\n",
      "  fig.canvas.print_figure(bytes_io, **kw)\n",
      "/Users/joker/opt/anaconda3/lib/python3.9/site-packages/IPython/core/pylabtools.py:151: UserWarning: Glyph 31934 (\\N{CJK UNIFIED IDEOGRAPH-7CBE}) missing from current font.\n",
      "  fig.canvas.print_figure(bytes_io, **kw)\n",
      "/Users/joker/opt/anaconda3/lib/python3.9/site-packages/IPython/core/pylabtools.py:151: UserWarning: Glyph 21547 (\\N{CJK UNIFIED IDEOGRAPH-542B}) missing from current font.\n",
      "  fig.canvas.print_figure(bytes_io, **kw)\n",
      "/Users/joker/opt/anaconda3/lib/python3.9/site-packages/IPython/core/pylabtools.py:151: UserWarning: Glyph 37327 (\\N{CJK UNIFIED IDEOGRAPH-91CF}) missing from current font.\n",
      "  fig.canvas.print_figure(bytes_io, **kw)\n",
      "/Users/joker/opt/anaconda3/lib/python3.9/site-packages/IPython/core/pylabtools.py:151: UserWarning: Glyph 31561 (\\N{CJK UNIFIED IDEOGRAPH-7B49}) missing from current font.\n",
      "  fig.canvas.print_figure(bytes_io, **kw)\n",
      "/Users/joker/opt/anaconda3/lib/python3.9/site-packages/IPython/core/pylabtools.py:151: UserWarning: Glyph 32423 (\\N{CJK UNIFIED IDEOGRAPH-7EA7}) missing from current font.\n",
      "  fig.canvas.print_figure(bytes_io, **kw)\n",
      "/Users/joker/opt/anaconda3/lib/python3.9/site-packages/IPython/core/pylabtools.py:151: UserWarning: Glyph 30340 (\\N{CJK UNIFIED IDEOGRAPH-7684}) missing from current font.\n",
      "  fig.canvas.print_figure(bytes_io, **kw)\n",
      "/Users/joker/opt/anaconda3/lib/python3.9/site-packages/IPython/core/pylabtools.py:151: UserWarning: Glyph 24179 (\\N{CJK UNIFIED IDEOGRAPH-5E73}) missing from current font.\n",
      "  fig.canvas.print_figure(bytes_io, **kw)\n",
      "/Users/joker/opt/anaconda3/lib/python3.9/site-packages/IPython/core/pylabtools.py:151: UserWarning: Glyph 22343 (\\N{CJK UNIFIED IDEOGRAPH-5747}) missing from current font.\n",
      "  fig.canvas.print_figure(bytes_io, **kw)\n",
      "/Users/joker/opt/anaconda3/lib/python3.9/site-packages/IPython/core/pylabtools.py:151: UserWarning: Glyph 36136 (\\N{CJK UNIFIED IDEOGRAPH-8D28}) missing from current font.\n",
      "  fig.canvas.print_figure(bytes_io, **kw)\n"
     ]
    },
    {
     "data": {
      "image/png": "[encoded data removed]",
      "text/plain": [
       "<Figure size 432x288 with 1 Axes>"
      ]
     },
     "metadata": {
      "needs_background": "light"
     },
     "output_type": "display_data"
    }
   ],
   "source": [
    "# 用合适的标签创建柱状图\n",
    "locations = [1, 2] # 定义条柱的 x 坐标位置\n",
    "heights = [mean_quality_low, mean_quality_high] #设置条柱的高度\n",
    "labels = ['Low', 'High']\n",
    "plt.bar(locations, heights, tick_label=labels)# 绘画直方图\n",
    "plt.title('不同酒精含量等级的平均质量')\n",
    "plt.xlabel('酒精含量')\n",
    "plt.ylabel('平均质量')"
   ]
  },
  {
   "cell_type": "markdown",
   "metadata": {},
   "source": [
    "通过观察上面的三幅直方图可以得知：高糖分的酒质量评分更高；酸度越低，质量评分就越高；高浓度酒精的质量评分更高。"
   ]
  },
  {
   "cell_type": "code",
   "execution_count": 22,
   "metadata": {
    "ExecuteTime": {
     "end_time": "2019-12-18T03:38:43.410625Z",
     "start_time": "2019-12-18T03:38:43.397661Z"
    }
   },
   "outputs": [],
   "source": [
    "# 进行值替换，将新创建的特征color和acidity_levels的值用数字替换\n",
    "df_wine.color.replace(to_replace=dict(red=1, white=2), inplace=True)\n",
    "df_wine.acidity_levels.replace(to_replace=dict(high=1, median_high=2, mediam=3, low=4), inplace=True)"
   ]
  },
  {
   "cell_type": "code",
   "execution_count": 23,
   "metadata": {
    "ExecuteTime": {
     "end_time": "2019-12-18T03:38:43.432567Z",
     "start_time": "2019-12-18T03:38:43.414629Z"
    }
   },
   "outputs": [
    {
     "data": {
      "text/html": [
       "<div>\n",
       "<style scoped>\n",
       "    .dataframe tbody tr th:only-of-type {\n",
       "        vertical-align: middle;\n",
       "    }\n",
       "\n",
       "    .dataframe tbody tr th {\n",
       "        vertical-align: top;\n",
       "    }\n",
       "\n",
       "    .dataframe thead th {\n",
       "        text-align: right;\n",
       "    }\n",
       "</style>\n",
       "<table border=\"1\" class=\"dataframe\">\n",
       "  <thead>\n",
       "    <tr style=\"text-align: right;\">\n",
       "      <th></th>\n",
       "      <th>fixed_acidity</th>\n",
       "      <th>volatile_acidity</th>\n",
       "      <th>citric_acid</th>\n",
       "      <th>residual_sugar</th>\n",
       "      <th>chlorides</th>\n",
       "      <th>free_sulfur_dioxide</th>\n",
       "      <th>total_sulfur_dioxide</th>\n",
       "      <th>density</th>\n",
       "      <th>pH</th>\n",
       "      <th>sulphates</th>\n",
       "      <th>alcohol</th>\n",
       "      <th>quality</th>\n",
       "      <th>color</th>\n",
       "      <th>acidity_levels</th>\n",
       "    </tr>\n",
       "  </thead>\n",
       "  <tbody>\n",
       "    <tr>\n",
       "      <th>0</th>\n",
       "      <td>7.4</td>\n",
       "      <td>0.70</td>\n",
       "      <td>0.00</td>\n",
       "      <td>1.9</td>\n",
       "      <td>0.076</td>\n",
       "      <td>11.0</td>\n",
       "      <td>34.0</td>\n",
       "      <td>0.9978</td>\n",
       "      <td>3.51</td>\n",
       "      <td>0.56</td>\n",
       "      <td>9.4</td>\n",
       "      <td>5</td>\n",
       "      <td>1</td>\n",
       "      <td>4</td>\n",
       "    </tr>\n",
       "    <tr>\n",
       "      <th>1</th>\n",
       "      <td>7.8</td>\n",
       "      <td>0.88</td>\n",
       "      <td>0.00</td>\n",
       "      <td>2.6</td>\n",
       "      <td>0.098</td>\n",
       "      <td>25.0</td>\n",
       "      <td>67.0</td>\n",
       "      <td>0.9968</td>\n",
       "      <td>3.20</td>\n",
       "      <td>0.68</td>\n",
       "      <td>9.8</td>\n",
       "      <td>5</td>\n",
       "      <td>1</td>\n",
       "      <td>2</td>\n",
       "    </tr>\n",
       "    <tr>\n",
       "      <th>2</th>\n",
       "      <td>7.8</td>\n",
       "      <td>0.76</td>\n",
       "      <td>0.04</td>\n",
       "      <td>2.3</td>\n",
       "      <td>0.092</td>\n",
       "      <td>15.0</td>\n",
       "      <td>54.0</td>\n",
       "      <td>0.9970</td>\n",
       "      <td>3.26</td>\n",
       "      <td>0.65</td>\n",
       "      <td>9.8</td>\n",
       "      <td>5</td>\n",
       "      <td>1</td>\n",
       "      <td>3</td>\n",
       "    </tr>\n",
       "    <tr>\n",
       "      <th>3</th>\n",
       "      <td>11.2</td>\n",
       "      <td>0.28</td>\n",
       "      <td>0.56</td>\n",
       "      <td>1.9</td>\n",
       "      <td>0.075</td>\n",
       "      <td>17.0</td>\n",
       "      <td>60.0</td>\n",
       "      <td>0.9980</td>\n",
       "      <td>3.16</td>\n",
       "      <td>0.58</td>\n",
       "      <td>9.8</td>\n",
       "      <td>6</td>\n",
       "      <td>1</td>\n",
       "      <td>2</td>\n",
       "    </tr>\n",
       "    <tr>\n",
       "      <th>4</th>\n",
       "      <td>7.4</td>\n",
       "      <td>0.70</td>\n",
       "      <td>0.00</td>\n",
       "      <td>1.9</td>\n",
       "      <td>0.076</td>\n",
       "      <td>11.0</td>\n",
       "      <td>34.0</td>\n",
       "      <td>0.9978</td>\n",
       "      <td>3.51</td>\n",
       "      <td>0.56</td>\n",
       "      <td>9.4</td>\n",
       "      <td>5</td>\n",
       "      <td>1</td>\n",
       "      <td>4</td>\n",
       "    </tr>\n",
       "  </tbody>\n",
       "</table>\n",
       "</div>"
      ],
      "text/plain": [
       "   fixed_acidity  volatile_acidity  citric_acid  residual_sugar  chlorides  \\\n",
       "0            7.4              0.70         0.00             1.9      0.076   \n",
       "1            7.8              0.88         0.00             2.6      0.098   \n",
       "2            7.8              0.76         0.04             2.3      0.092   \n",
       "3           11.2              0.28         0.56             1.9      0.075   \n",
       "4            7.4              0.70         0.00             1.9      0.076   \n",
       "\n",
       "   free_sulfur_dioxide  total_sulfur_dioxide  density    pH  sulphates  \\\n",
       "0                 11.0                  34.0   0.9978  3.51       0.56   \n",
       "1                 25.0                  67.0   0.9968  3.20       0.68   \n",
       "2                 15.0                  54.0   0.9970  3.26       0.65   \n",
       "3                 17.0                  60.0   0.9980  3.16       0.58   \n",
       "4                 11.0                  34.0   0.9978  3.51       0.56   \n",
       "\n",
       "   alcohol  quality  color acidity_levels  \n",
       "0      9.4        5      1              4  \n",
       "1      9.8        5      1              2  \n",
       "2      9.8        5      1              3  \n",
       "3      9.8        6      1              2  \n",
       "4      9.4        5      1              4  "
      ]
     },
     "execution_count": 23,
     "metadata": {},
     "output_type": "execute_result"
    }
   ],
   "source": [
    "#查看特征的值是否替换\n",
    "df_wine.head()"
   ]
  },
  {
   "cell_type": "markdown",
   "metadata": {
    "ExecuteTime": {
     "end_time": "2019-10-25T08:11:32.009517Z",
     "start_time": "2019-10-25T08:11:32.004530Z"
    }
   },
   "source": [
    "### （五）数据处理\n",
    "本实验中，由于quality是标签，需要把它单独取出来做成标签列，采用Pandas中取某一列的方法取出标签列数据。"
   ]
  },
  {
   "cell_type": "code",
   "execution_count": 24,
   "metadata": {
    "ExecuteTime": {
     "end_time": "2019-12-18T03:38:43.439548Z",
     "start_time": "2019-12-18T03:38:43.435559Z"
    }
   },
   "outputs": [],
   "source": [
    "y = df_wine[\"quality\"]#获取标签列"
   ]
  },
  {
   "cell_type": "markdown",
   "metadata": {},
   "source": [
    "提取出标签列后，需要利用pandas下的drop（列名，axis=1指定为列，inplace=是否替换原来的内容）函数将标签列删除。"
   ]
  },
  {
   "cell_type": "code",
   "execution_count": 25,
   "metadata": {
    "ExecuteTime": {
     "end_time": "2019-12-18T03:38:43.448523Z",
     "start_time": "2019-12-18T03:38:43.442540Z"
    }
   },
   "outputs": [],
   "source": [
    "X = df_wine.drop(['quality'],axis=1)# 删除标签列"
   ]
  },
  {
   "cell_type": "markdown",
   "metadata": {},
   "source": [
    "由于概率模型（树形模型）不关心变量的值，而是关心变量的分布和变量之间的条件概率，所以在使用决策树之前无需做数据标准化，可以直接将数据集划分。\n",
    "\n",
    "### （六）数据集的划分  \n",
    "数据集的划分需要利用Sklearn.preprocess模块下的train_test_split(X,y，test_size=0.2)函数，把数据集分为训练集和测试集。"
   ]
  },
  {
   "cell_type": "code",
   "execution_count": 26,
   "metadata": {
    "ExecuteTime": {
     "end_time": "2019-12-18T03:38:43.461490Z",
     "start_time": "2019-12-18T03:38:43.450519Z"
    }
   },
   "outputs": [
    {
     "data": {
      "text/plain": [
       "((5197, 13), (5197,), (1300, 13), (1300,))"
      ]
     },
     "execution_count": 26,
     "metadata": {},
     "output_type": "execute_result"
    }
   ],
   "source": [
    "#划分数据集\n",
    "train_X,test_X,train_y,test_y=train_test_split(X,y,test_size=0.2)\n",
    "train_X.shape,train_y.shape,test_X.shape,test_y.shape"
   ]
  },
  {
   "cell_type": "markdown",
   "metadata": {},
   "source": [
    "### （七）模型的训练、应用和评估"
   ]
  },
  {
   "cell_type": "markdown",
   "metadata": {},
   "source": [
    "决策树是一个树结构。使用决策树进行决策的过程中，需要从根节点开始，测试待分类项中相应的特征属性，并按照其值选择输出分支，直到到达叶子节点，将叶子节点存放的类别作为决策结果。决策树模型常常用来解决分类和回归问题，但是它忽略数据集中属性之间的相关性，容易出现过拟合。\n",
    "\n",
    "决策树算法的具体实现步骤如下：\n",
    "\n",
    "1.实例化sklearn.tree里的DecisionTreeClassifier()算法模块。\n",
    "\n",
    "2.利用DecisionTreeClassifier().fit(train_X,train_y)函数对训练集数据进行拟合。\n",
    "\n",
    "3.利用model_tree.predict(test_X)函数对测试集数据进行预测。\n",
    "\n",
    "4.利用sklearn.metrics里的accuracy_score()进行评分。\n",
    "\n",
    "DecisionTreeClassifier()函数几个重要的参数解释：\n",
    "    \n",
    "    criterion:gini(基尼系数) 或者 entropy(信息熵)，默认为“gini”。\n",
    "\n",
    "    max_depth:决策树的深度（层数），太少会欠拟合，太多会过拟合，默认None。\n",
    "\n",
    "    min_samples_split:节点样本最小值，小于这个值就不会继续划分了，如果样本数量很大，请酌情增大这个参数，默认为2。\n",
    "\n",
    "    min_samples_leaf:叶子的样本最小值，如果小于这个值就会被剪枝，样本量很大的话酌情增大。(样本是10万，那么叶子样本#数量可以达到10，如果样本数量100万，那么叶子样本可以达到50或者100，大概是1：10000或者1：20000的比例)，默认为1。  \n",
    "\n",
    "    max_features:设置特征个数来进行分类，按照criterion分裂，如果已经使用了这个数量的特征，剩下的特征就不会再分裂(通常特征数量超过250个，那么我们或启用1：2或者1：3的数量来限制它的最大特征数)，默认None。\n",
    "\n",
    "    max_leaf_nodes:最大叶子点，防止过拟合，特征比较多请考虑限制叶子的数量，默认None。\n",
    "\n",
    "    min_impurity_split:阈值，也可以理解为分裂时需要的不纯度(信息增益/比/基尼系数)，过小会导致过拟合，过大会欠拟合或者无法分类，默认None。\n",
    "    \n",
    "    class_weight：设置类别的权重，如果没有给出每个类别的权重，则每个类别的权重都为1。\n",
    "\n",
    "accuracy_score()函数所使用的参数解释：\n",
    "\n",
    "    y_true: 测试样本标签；\n",
    "    y_pred: 预测结果。\n",
    "本实验中将对DecisionTreeClassifier()函数的参数criterion取“gini”和“entropy”这两个分裂节点时评价准则，以比较不同决策方式对算法准确率的影响。实例化一个模型后先用训练集数据进行训练，然后测试集数据进行测试，最后利用accuracy_score()函数评估模型的准确率。分类的准确率分数是指所有分类正确的样本占所有分类样本的百分比。"
   ]
  },
  {
   "cell_type": "code",
   "execution_count": 27,
   "metadata": {
    "ExecuteTime": {
     "end_time": "2019-12-18T03:38:43.603111Z",
     "start_time": "2019-12-18T03:38:43.464481Z"
    }
   },
   "outputs": [
    {
     "data": {
      "text/plain": [
       "DecisionTreeClassifier(criterion='entropy', max_depth=20, min_samples_split=3)"
      ]
     },
     "execution_count": 27,
     "metadata": {},
     "output_type": "execute_result"
    }
   ],
   "source": [
    "# 实例化算法DecisionTreeClassifier()\n",
    "model_tree1 = DecisionTreeClassifier(max_depth=20,min_samples_split=3)\n",
    "model_tree2 = DecisionTreeClassifier(criterion='entropy',max_depth=20,min_samples_split=3)\n",
    "# 训练模型\n",
    "model_tree1.fit(train_X,train_y)\n",
    "model_tree2.fit(train_X,train_y)"
   ]
  },
  {
   "cell_type": "code",
   "execution_count": 28,
   "metadata": {
    "ExecuteTime": {
     "end_time": "2019-12-18T03:38:43.612086Z",
     "start_time": "2019-12-18T03:38:43.604108Z"
    }
   },
   "outputs": [],
   "source": [
    "# 用测试集测试得到预测标签\n",
    "preds1 = model_tree1.predict(test_X)\n",
    "preds2 = model_tree2.predict(test_X)"
   ]
  },
  {
   "cell_type": "code",
   "execution_count": 29,
   "metadata": {
    "ExecuteTime": {
     "end_time": "2019-12-18T03:38:43.621063Z",
     "start_time": "2019-12-18T03:38:43.614082Z"
    }
   },
   "outputs": [
    {
     "name": "stdout",
     "output_type": "stream",
     "text": [
      "参数criterion为gini的准确率： 0.5907692307692308\n",
      "参数criterion为entropy的准确率： 0.59\n"
     ]
    }
   ],
   "source": [
    "# 评分\n",
    "print('参数criterion为gini的准确率：',accuracy_score(preds1,test_y))\n",
    "print('参数criterion为entropy的准确率：',accuracy_score(preds2,test_y))"
   ]
  },
  {
   "cell_type": "markdown",
   "metadata": {},
   "source": [
    "## 五、结果分析"
   ]
  },
  {
   "cell_type": "markdown",
   "metadata": {},
   "source": [
    "本实验采用了葡萄酒品质数据集，将葡萄酒品质预测作为一个分类任务，利用决策树对此数据集进行分类预测。 实验过程包括数据集的加载、数据集的合并、数据可视化、数据的处理、数据集的划分、模型训练与预测。\n",
    "\n",
    "本实验最终以两种不同决策方式的决策树算法进行训练和测试，准确度在0.5至0.7之间。在决策树分类算法中，信息熵对不纯度更加敏感，对不纯度的惩罚最强，但是在实际使用中，信息熵和基尼系数的效果基本相同。基尼系数比信息熵的计算速度快，因为基尼系数的计算不涉及对数。另外，因为信息熵对不纯度更加敏感，所以信息熵作为指标时，决策树的生长会更加“精细”，因此对于高维数据或者噪音很多的数据，信息熵很容易过拟合。反之，基尼系数在这种情况下效果往往比较好，当然这不是绝对的。"
   ]
  },
  {
   "cell_type": "markdown",
   "metadata": {},
   "source": [
    "1.尝试利用决策树对一些回归任务的数据集进行学习和预测。\n",
    "\n",
    "2.尝试自学AutoML(自动机器学习)的相关知识，并利用AutoML对葡萄酒品质数据进行分类预测。"
   ]
  },
  {
   "cell_type": "code",
   "execution_count": 39,
   "metadata": {},
   "outputs": [
    {
     "data": {
      "text/plain": [
       "DecisionTreeClassifier(max_depth=2)"
      ]
     },
     "execution_count": 39,
     "metadata": {},
     "output_type": "execute_result"
    }
   ],
   "source": [
    "from sklearn.datasets import load_iris\n",
    "from sklearn.tree import DecisionTreeClassifier\n",
    "from sklearn import tree\n",
    "X = load_iris().data\n",
    "y = load_iris().target\n",
    "model = DecisionTreeClassifier(max_depth=2)\n",
    "model.fit(X,y)"
   ]
  },
  {
   "cell_type": "code",
   "execution_count": 40,
   "metadata": {},
   "outputs": [
    {
     "data": {
      "text/plain": [
       "[Text(0.4, 0.8333333333333334, 'X[2] <= 2.45\\ngini = 0.667\\nsamples = 150\\nvalue = [50, 50, 50]'),\n",
       " Text(0.2, 0.5, 'gini = 0.0\\nsamples = 50\\nvalue = [50, 0, 0]'),\n",
       " Text(0.6, 0.5, 'X[3] <= 1.75\\ngini = 0.5\\nsamples = 100\\nvalue = [0, 50, 50]'),\n",
       " Text(0.4, 0.16666666666666666, 'gini = 0.168\\nsamples = 54\\nvalue = [0, 49, 5]'),\n",
       " Text(0.8, 0.16666666666666666, 'gini = 0.043\\nsamples = 46\\nvalue = [0, 1, 45]')]"
      ]
     },
     "execution_count": 40,
     "metadata": {},
     "output_type": "execute_result"
    },
    {
     "name": "stderr",
     "output_type": "stream",
     "text": [
      "findfont: Font family ['SimHei'] not found. Falling back to DejaVu Sans.\n"
     ]
    },
    {
     "data": {
      "image/png": "[encoded data removed]",
      "text/plain": [
       "<Figure size 432x288 with 1 Axes>"
      ]
     },
     "metadata": {
      "needs_background": "light"
     },
     "output_type": "display_data"
    }
   ],
   "source": [
    "tree.plot_tree(model)"
   ]
  },
  {
   "cell_type": "code",
   "execution_count": null,
   "metadata": {},
   "outputs": [],
   "source": []
  }
 ],
 "metadata": {
  "kernelspec": {
   "display_name": "Python 3.9.12 ('base')",
   "language": "python",
   "name": "python3"
  },
  "language_info": {
   "codemirror_mode": {
    "name": "ipython",
    "version": 3
   },
   "file_extension": ".py",
   "mimetype": "text/x-python",
   "name": "python",
   "nbconvert_exporter": "python",
   "pygments_lexer": "ipython3",
   "version": "3.9.12"
  },
  "toc": {
   "base_numbering": 1,
   "nav_menu": {},
   "number_sections": false,
   "sideBar": true,
   "skip_h1_title": false,
   "title_cell": "Table of Contents",
   "title_sidebar": "Contents",
   "toc_cell": false,
   "toc_position": {
    "height": "calc(100% - 180px)",
    "left": "10px",
    "top": "150px",
    "width": "273.156px"
   },
   "toc_section_display": true,
   "toc_window_display": true
  },
  "vscode": {
   "interpreter": {
    "hash": "66e3d188d02a210bab72f20c506ffac958ef9b0a7153119813a4060f203dc33d"
   }
  }
 },
 "nbformat": 4,
 "nbformat_minor": 2
}
